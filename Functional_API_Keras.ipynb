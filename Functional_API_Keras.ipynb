{
 "cells": [
  {
   "cell_type": "code",
   "execution_count": 2,
   "id": "631acd50",
   "metadata": {},
   "outputs": [],
   "source": [
    "from keras.models import Model"
   ]
  },
  {
   "cell_type": "code",
   "execution_count": 3,
   "id": "f6d02100",
   "metadata": {},
   "outputs": [],
   "source": [
    "from keras.layers import *"
   ]
  },
  {
   "cell_type": "code",
   "execution_count": 4,
   "id": "0ae8b592",
   "metadata": {},
   "outputs": [],
   "source": [
    "x = Input(shape=(3,))"
   ]
  },
  {
   "cell_type": "code",
   "execution_count": 7,
   "id": "386d3c8e",
   "metadata": {},
   "outputs": [],
   "source": [
    "hidden1 = Dense(128,activation='relu')(x)\n",
    "hidden2 = Dense(64,activation='relu')(hidden1)\n",
    "\n",
    "output1 = Dense(1, activation='linear')(hidden2)\n",
    "output2 = Dense(1, activation='sigmoid')(hidden2)"
   ]
  },
  {
   "cell_type": "code",
   "execution_count": 8,
   "id": "ba82048f",
   "metadata": {},
   "outputs": [],
   "source": [
    "model = Model(inputs = x, outputs = [output1,output2])"
   ]
  },
  {
   "cell_type": "code",
   "execution_count": 9,
   "id": "cbb156ac",
   "metadata": {},
   "outputs": [
    {
     "name": "stdout",
     "output_type": "stream",
     "text": [
      "Model: \"model\"\n",
      "__________________________________________________________________________________________________\n",
      " Layer (type)                Output Shape                 Param #   Connected to                  \n",
      "==================================================================================================\n",
      " input_1 (InputLayer)        [(None, 3)]                  0         []                            \n",
      "                                                                                                  \n",
      " dense_2 (Dense)             (None, 128)                  512       ['input_1[0][0]']             \n",
      "                                                                                                  \n",
      " dense_3 (Dense)             (None, 64)                   8256      ['dense_2[0][0]']             \n",
      "                                                                                                  \n",
      " dense_4 (Dense)             (None, 1)                    65        ['dense_3[0][0]']             \n",
      "                                                                                                  \n",
      " dense_5 (Dense)             (None, 1)                    65        ['dense_3[0][0]']             \n",
      "                                                                                                  \n",
      "==================================================================================================\n",
      "Total params: 8898 (34.76 KB)\n",
      "Trainable params: 8898 (34.76 KB)\n",
      "Non-trainable params: 0 (0.00 Byte)\n",
      "__________________________________________________________________________________________________\n"
     ]
    }
   ],
   "source": [
    "model.summary()"
   ]
  },
  {
   "cell_type": "code",
   "execution_count": 14,
   "id": "3070dc51",
   "metadata": {},
   "outputs": [
    {
     "name": "stdout",
     "output_type": "stream",
     "text": [
      "You must install pydot (`pip install pydot`) and install graphviz (see instructions at https://graphviz.gitlab.io/download/) for plot_model to work.\n"
     ]
    }
   ],
   "source": [
    "from keras.utils import plot_model\n",
    "plot_model(model)"
   ]
  },
  {
   "cell_type": "code",
   "execution_count": null,
   "id": "6f29b0c5",
   "metadata": {},
   "outputs": [],
   "source": []
  }
 ],
 "metadata": {
  "kernelspec": {
   "display_name": "Python 3 (ipykernel)",
   "language": "python",
   "name": "python3"
  },
  "language_info": {
   "codemirror_mode": {
    "name": "ipython",
    "version": 3
   },
   "file_extension": ".py",
   "mimetype": "text/x-python",
   "name": "python",
   "nbconvert_exporter": "python",
   "pygments_lexer": "ipython3",
   "version": "3.11.3"
  }
 },
 "nbformat": 4,
 "nbformat_minor": 5
}
